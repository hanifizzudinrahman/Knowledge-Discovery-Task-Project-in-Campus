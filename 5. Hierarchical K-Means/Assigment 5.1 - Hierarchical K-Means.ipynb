{
 "cells": [
  {
   "cell_type": "code",
   "execution_count": 1,
   "metadata": {},
   "outputs": [
    {
     "data": {
      "text/html": [
       "<div>\n",
       "<style scoped>\n",
       "    .dataframe tbody tr th:only-of-type {\n",
       "        vertical-align: middle;\n",
       "    }\n",
       "\n",
       "    .dataframe tbody tr th {\n",
       "        vertical-align: top;\n",
       "    }\n",
       "\n",
       "    .dataframe thead th {\n",
       "        text-align: right;\n",
       "    }\n",
       "</style>\n",
       "<table border=\"1\" class=\"dataframe\">\n",
       "  <thead>\n",
       "    <tr style=\"text-align: right;\">\n",
       "      <th></th>\n",
       "      <th>index</th>\n",
       "      <th>Age</th>\n",
       "      <th>Sex</th>\n",
       "      <th>Steroid</th>\n",
       "      <th>Antivirals</th>\n",
       "      <th>Fatique</th>\n",
       "      <th>Malaise</th>\n",
       "      <th>Anorexia</th>\n",
       "      <th>Liver_Big</th>\n",
       "      <th>Liver_Firm</th>\n",
       "      <th>Spleen_Palpable</th>\n",
       "      <th>Speiders</th>\n",
       "      <th>Ascites</th>\n",
       "      <th>Varices</th>\n",
       "      <th>Bilirubin</th>\n",
       "      <th>Alk_Phosphate</th>\n",
       "      <th>SGOT</th>\n",
       "      <th>Albumin</th>\n",
       "      <th>Protime</th>\n",
       "      <th>Histology</th>\n",
       "    </tr>\n",
       "  </thead>\n",
       "  <tbody>\n",
       "    <tr>\n",
       "      <th>0</th>\n",
       "      <td>2</td>\n",
       "      <td>30</td>\n",
       "      <td>1</td>\n",
       "      <td>0.0</td>\n",
       "      <td>1</td>\n",
       "      <td>1.0</td>\n",
       "      <td>1.0</td>\n",
       "      <td>1.0</td>\n",
       "      <td>0.0</td>\n",
       "      <td>1.0</td>\n",
       "      <td>1.0</td>\n",
       "      <td>1.0</td>\n",
       "      <td>1.0</td>\n",
       "      <td>1.0</td>\n",
       "      <td>1.0</td>\n",
       "      <td>85.0</td>\n",
       "      <td>18.0</td>\n",
       "      <td>4.0</td>\n",
       "      <td>NaN</td>\n",
       "      <td>0</td>\n",
       "    </tr>\n",
       "    <tr>\n",
       "      <th>1</th>\n",
       "      <td>3</td>\n",
       "      <td>50</td>\n",
       "      <td>0</td>\n",
       "      <td>0.0</td>\n",
       "      <td>1</td>\n",
       "      <td>0.0</td>\n",
       "      <td>1.0</td>\n",
       "      <td>1.0</td>\n",
       "      <td>0.0</td>\n",
       "      <td>1.0</td>\n",
       "      <td>1.0</td>\n",
       "      <td>1.0</td>\n",
       "      <td>1.0</td>\n",
       "      <td>1.0</td>\n",
       "      <td>0.9</td>\n",
       "      <td>135.0</td>\n",
       "      <td>42.0</td>\n",
       "      <td>3.5</td>\n",
       "      <td>NaN</td>\n",
       "      <td>0</td>\n",
       "    </tr>\n",
       "    <tr>\n",
       "      <th>2</th>\n",
       "      <td>4</td>\n",
       "      <td>78</td>\n",
       "      <td>0</td>\n",
       "      <td>1.0</td>\n",
       "      <td>1</td>\n",
       "      <td>0.0</td>\n",
       "      <td>1.0</td>\n",
       "      <td>1.0</td>\n",
       "      <td>1.0</td>\n",
       "      <td>1.0</td>\n",
       "      <td>1.0</td>\n",
       "      <td>1.0</td>\n",
       "      <td>1.0</td>\n",
       "      <td>1.0</td>\n",
       "      <td>0.7</td>\n",
       "      <td>96.0</td>\n",
       "      <td>32.0</td>\n",
       "      <td>4.0</td>\n",
       "      <td>NaN</td>\n",
       "      <td>0</td>\n",
       "    </tr>\n",
       "    <tr>\n",
       "      <th>3</th>\n",
       "      <td>5</td>\n",
       "      <td>31</td>\n",
       "      <td>0</td>\n",
       "      <td>NaN</td>\n",
       "      <td>0</td>\n",
       "      <td>1.0</td>\n",
       "      <td>1.0</td>\n",
       "      <td>1.0</td>\n",
       "      <td>1.0</td>\n",
       "      <td>1.0</td>\n",
       "      <td>1.0</td>\n",
       "      <td>1.0</td>\n",
       "      <td>1.0</td>\n",
       "      <td>1.0</td>\n",
       "      <td>0.7</td>\n",
       "      <td>46.0</td>\n",
       "      <td>52.0</td>\n",
       "      <td>4.0</td>\n",
       "      <td>80.0</td>\n",
       "      <td>0</td>\n",
       "    </tr>\n",
       "    <tr>\n",
       "      <th>4</th>\n",
       "      <td>6</td>\n",
       "      <td>34</td>\n",
       "      <td>0</td>\n",
       "      <td>1.0</td>\n",
       "      <td>1</td>\n",
       "      <td>1.0</td>\n",
       "      <td>1.0</td>\n",
       "      <td>1.0</td>\n",
       "      <td>1.0</td>\n",
       "      <td>1.0</td>\n",
       "      <td>1.0</td>\n",
       "      <td>1.0</td>\n",
       "      <td>1.0</td>\n",
       "      <td>1.0</td>\n",
       "      <td>1.0</td>\n",
       "      <td>NaN</td>\n",
       "      <td>200.0</td>\n",
       "      <td>4.0</td>\n",
       "      <td>NaN</td>\n",
       "      <td>0</td>\n",
       "    </tr>\n",
       "    <tr>\n",
       "      <th>...</th>\n",
       "      <td>...</td>\n",
       "      <td>...</td>\n",
       "      <td>...</td>\n",
       "      <td>...</td>\n",
       "      <td>...</td>\n",
       "      <td>...</td>\n",
       "      <td>...</td>\n",
       "      <td>...</td>\n",
       "      <td>...</td>\n",
       "      <td>...</td>\n",
       "      <td>...</td>\n",
       "      <td>...</td>\n",
       "      <td>...</td>\n",
       "      <td>...</td>\n",
       "      <td>...</td>\n",
       "      <td>...</td>\n",
       "      <td>...</td>\n",
       "      <td>...</td>\n",
       "      <td>...</td>\n",
       "      <td>...</td>\n",
       "    </tr>\n",
       "    <tr>\n",
       "      <th>150</th>\n",
       "      <td>152</td>\n",
       "      <td>46</td>\n",
       "      <td>0</td>\n",
       "      <td>1.0</td>\n",
       "      <td>1</td>\n",
       "      <td>0.0</td>\n",
       "      <td>0.0</td>\n",
       "      <td>0.0</td>\n",
       "      <td>1.0</td>\n",
       "      <td>1.0</td>\n",
       "      <td>1.0</td>\n",
       "      <td>0.0</td>\n",
       "      <td>0.0</td>\n",
       "      <td>0.0</td>\n",
       "      <td>7.6</td>\n",
       "      <td>NaN</td>\n",
       "      <td>242.0</td>\n",
       "      <td>3.3</td>\n",
       "      <td>50.0</td>\n",
       "      <td>1</td>\n",
       "    </tr>\n",
       "    <tr>\n",
       "      <th>151</th>\n",
       "      <td>153</td>\n",
       "      <td>44</td>\n",
       "      <td>0</td>\n",
       "      <td>1.0</td>\n",
       "      <td>1</td>\n",
       "      <td>0.0</td>\n",
       "      <td>1.0</td>\n",
       "      <td>1.0</td>\n",
       "      <td>1.0</td>\n",
       "      <td>0.0</td>\n",
       "      <td>1.0</td>\n",
       "      <td>1.0</td>\n",
       "      <td>1.0</td>\n",
       "      <td>1.0</td>\n",
       "      <td>0.9</td>\n",
       "      <td>126.0</td>\n",
       "      <td>142.0</td>\n",
       "      <td>4.3</td>\n",
       "      <td>NaN</td>\n",
       "      <td>1</td>\n",
       "    </tr>\n",
       "    <tr>\n",
       "      <th>152</th>\n",
       "      <td>154</td>\n",
       "      <td>61</td>\n",
       "      <td>0</td>\n",
       "      <td>0.0</td>\n",
       "      <td>1</td>\n",
       "      <td>0.0</td>\n",
       "      <td>0.0</td>\n",
       "      <td>1.0</td>\n",
       "      <td>0.0</td>\n",
       "      <td>0.0</td>\n",
       "      <td>1.0</td>\n",
       "      <td>0.0</td>\n",
       "      <td>1.0</td>\n",
       "      <td>1.0</td>\n",
       "      <td>0.8</td>\n",
       "      <td>75.0</td>\n",
       "      <td>20.0</td>\n",
       "      <td>4.1</td>\n",
       "      <td>NaN</td>\n",
       "      <td>1</td>\n",
       "    </tr>\n",
       "    <tr>\n",
       "      <th>153</th>\n",
       "      <td>155</td>\n",
       "      <td>53</td>\n",
       "      <td>1</td>\n",
       "      <td>0.0</td>\n",
       "      <td>1</td>\n",
       "      <td>0.0</td>\n",
       "      <td>1.0</td>\n",
       "      <td>1.0</td>\n",
       "      <td>1.0</td>\n",
       "      <td>1.0</td>\n",
       "      <td>0.0</td>\n",
       "      <td>0.0</td>\n",
       "      <td>1.0</td>\n",
       "      <td>0.0</td>\n",
       "      <td>1.5</td>\n",
       "      <td>81.0</td>\n",
       "      <td>19.0</td>\n",
       "      <td>4.1</td>\n",
       "      <td>48.0</td>\n",
       "      <td>1</td>\n",
       "    </tr>\n",
       "    <tr>\n",
       "      <th>154</th>\n",
       "      <td>156</td>\n",
       "      <td>43</td>\n",
       "      <td>0</td>\n",
       "      <td>1.0</td>\n",
       "      <td>1</td>\n",
       "      <td>0.0</td>\n",
       "      <td>1.0</td>\n",
       "      <td>1.0</td>\n",
       "      <td>1.0</td>\n",
       "      <td>1.0</td>\n",
       "      <td>0.0</td>\n",
       "      <td>0.0</td>\n",
       "      <td>0.0</td>\n",
       "      <td>1.0</td>\n",
       "      <td>1.2</td>\n",
       "      <td>100.0</td>\n",
       "      <td>19.0</td>\n",
       "      <td>3.1</td>\n",
       "      <td>42.0</td>\n",
       "      <td>1</td>\n",
       "    </tr>\n",
       "  </tbody>\n",
       "</table>\n",
       "<p>155 rows × 20 columns</p>\n",
       "</div>"
      ],
      "text/plain": [
       "     index  Age  Sex  Steroid  Antivirals  Fatique  Malaise  Anorexia  \\\n",
       "0        2   30    1      0.0           1      1.0      1.0       1.0   \n",
       "1        3   50    0      0.0           1      0.0      1.0       1.0   \n",
       "2        4   78    0      1.0           1      0.0      1.0       1.0   \n",
       "3        5   31    0      NaN           0      1.0      1.0       1.0   \n",
       "4        6   34    0      1.0           1      1.0      1.0       1.0   \n",
       "..     ...  ...  ...      ...         ...      ...      ...       ...   \n",
       "150    152   46    0      1.0           1      0.0      0.0       0.0   \n",
       "151    153   44    0      1.0           1      0.0      1.0       1.0   \n",
       "152    154   61    0      0.0           1      0.0      0.0       1.0   \n",
       "153    155   53    1      0.0           1      0.0      1.0       1.0   \n",
       "154    156   43    0      1.0           1      0.0      1.0       1.0   \n",
       "\n",
       "     Liver_Big  Liver_Firm  Spleen_Palpable  Speiders  Ascites  Varices  \\\n",
       "0          0.0         1.0              1.0       1.0      1.0      1.0   \n",
       "1          0.0         1.0              1.0       1.0      1.0      1.0   \n",
       "2          1.0         1.0              1.0       1.0      1.0      1.0   \n",
       "3          1.0         1.0              1.0       1.0      1.0      1.0   \n",
       "4          1.0         1.0              1.0       1.0      1.0      1.0   \n",
       "..         ...         ...              ...       ...      ...      ...   \n",
       "150        1.0         1.0              1.0       0.0      0.0      0.0   \n",
       "151        1.0         0.0              1.0       1.0      1.0      1.0   \n",
       "152        0.0         0.0              1.0       0.0      1.0      1.0   \n",
       "153        1.0         1.0              0.0       0.0      1.0      0.0   \n",
       "154        1.0         1.0              0.0       0.0      0.0      1.0   \n",
       "\n",
       "     Bilirubin  Alk_Phosphate   SGOT  Albumin  Protime  Histology  \n",
       "0          1.0           85.0   18.0      4.0      NaN          0  \n",
       "1          0.9          135.0   42.0      3.5      NaN          0  \n",
       "2          0.7           96.0   32.0      4.0      NaN          0  \n",
       "3          0.7           46.0   52.0      4.0     80.0          0  \n",
       "4          1.0            NaN  200.0      4.0      NaN          0  \n",
       "..         ...            ...    ...      ...      ...        ...  \n",
       "150        7.6            NaN  242.0      3.3     50.0          1  \n",
       "151        0.9          126.0  142.0      4.3      NaN          1  \n",
       "152        0.8           75.0   20.0      4.1      NaN          1  \n",
       "153        1.5           81.0   19.0      4.1     48.0          1  \n",
       "154        1.2          100.0   19.0      3.1     42.0          1  \n",
       "\n",
       "[155 rows x 20 columns]"
      ]
     },
     "execution_count": 1,
     "metadata": {},
     "output_type": "execute_result"
    }
   ],
   "source": [
    "import pandas as pd\n",
    "import numpy as np\n",
    "\n",
    "data = pd.read_excel(\"hepatitis_new.xlsx\", header=None)\n",
    "data.drop(0, inplace=True, axis=1)\n",
    "data.drop(0, inplace=True, axis=0)\n",
    "data.columns = data.iloc[0]\n",
    "data.drop(1, inplace=True, axis=0)\n",
    "data.columns = [c.replace(' ', '_') for c in data.columns]\n",
    "data = data.replace(to_replace=['no', 'yes'], value=[0, 1])\n",
    "data.CLASS = data.CLASS.replace(to_replace=['Live', 'Die'], value=[0, 1])\n",
    "data = data.replace(to_replace=['?'], value=np.nan)\n",
    "data = data.reset_index()\n",
    "X_temp = data.drop(columns=['CLASS'])\n",
    "X_temp"
   ]
  },
  {
   "cell_type": "code",
   "execution_count": 2,
   "metadata": {},
   "outputs": [
    {
     "data": {
      "text/html": [
       "<div>\n",
       "<style scoped>\n",
       "    .dataframe tbody tr th:only-of-type {\n",
       "        vertical-align: middle;\n",
       "    }\n",
       "\n",
       "    .dataframe tbody tr th {\n",
       "        vertical-align: top;\n",
       "    }\n",
       "\n",
       "    .dataframe thead th {\n",
       "        text-align: right;\n",
       "    }\n",
       "</style>\n",
       "<table border=\"1\" class=\"dataframe\">\n",
       "  <thead>\n",
       "    <tr style=\"text-align: right;\">\n",
       "      <th></th>\n",
       "      <th>index</th>\n",
       "      <th>Age</th>\n",
       "      <th>Sex</th>\n",
       "      <th>Steroid</th>\n",
       "      <th>Antivirals</th>\n",
       "      <th>Fatique</th>\n",
       "      <th>Malaise</th>\n",
       "      <th>Anorexia</th>\n",
       "      <th>Liver_Big</th>\n",
       "      <th>Liver_Firm</th>\n",
       "      <th>Spleen_Palpable</th>\n",
       "      <th>Speiders</th>\n",
       "      <th>Ascites</th>\n",
       "      <th>Varices</th>\n",
       "      <th>Bilirubin</th>\n",
       "      <th>Alk_Phosphate</th>\n",
       "      <th>SGOT</th>\n",
       "      <th>Albumin</th>\n",
       "      <th>Protime</th>\n",
       "      <th>Histology</th>\n",
       "    </tr>\n",
       "  </thead>\n",
       "  <tbody>\n",
       "    <tr>\n",
       "      <th>0</th>\n",
       "      <td>2</td>\n",
       "      <td>30</td>\n",
       "      <td>1</td>\n",
       "      <td>0.000000</td>\n",
       "      <td>1</td>\n",
       "      <td>1.0</td>\n",
       "      <td>1.0</td>\n",
       "      <td>1.0</td>\n",
       "      <td>0.0</td>\n",
       "      <td>1.0</td>\n",
       "      <td>1.0</td>\n",
       "      <td>1.0</td>\n",
       "      <td>1.0</td>\n",
       "      <td>1.0</td>\n",
       "      <td>1.0</td>\n",
       "      <td>85.000000</td>\n",
       "      <td>18.0</td>\n",
       "      <td>4.0</td>\n",
       "      <td>66.571429</td>\n",
       "      <td>0</td>\n",
       "    </tr>\n",
       "    <tr>\n",
       "      <th>1</th>\n",
       "      <td>3</td>\n",
       "      <td>50</td>\n",
       "      <td>0</td>\n",
       "      <td>0.000000</td>\n",
       "      <td>1</td>\n",
       "      <td>0.0</td>\n",
       "      <td>1.0</td>\n",
       "      <td>1.0</td>\n",
       "      <td>0.0</td>\n",
       "      <td>1.0</td>\n",
       "      <td>1.0</td>\n",
       "      <td>1.0</td>\n",
       "      <td>1.0</td>\n",
       "      <td>1.0</td>\n",
       "      <td>0.9</td>\n",
       "      <td>135.000000</td>\n",
       "      <td>42.0</td>\n",
       "      <td>3.5</td>\n",
       "      <td>66.571429</td>\n",
       "      <td>0</td>\n",
       "    </tr>\n",
       "    <tr>\n",
       "      <th>2</th>\n",
       "      <td>4</td>\n",
       "      <td>78</td>\n",
       "      <td>0</td>\n",
       "      <td>1.000000</td>\n",
       "      <td>1</td>\n",
       "      <td>0.0</td>\n",
       "      <td>1.0</td>\n",
       "      <td>1.0</td>\n",
       "      <td>1.0</td>\n",
       "      <td>1.0</td>\n",
       "      <td>1.0</td>\n",
       "      <td>1.0</td>\n",
       "      <td>1.0</td>\n",
       "      <td>1.0</td>\n",
       "      <td>0.7</td>\n",
       "      <td>96.000000</td>\n",
       "      <td>32.0</td>\n",
       "      <td>4.0</td>\n",
       "      <td>66.571429</td>\n",
       "      <td>0</td>\n",
       "    </tr>\n",
       "    <tr>\n",
       "      <th>3</th>\n",
       "      <td>5</td>\n",
       "      <td>31</td>\n",
       "      <td>0</td>\n",
       "      <td>0.540984</td>\n",
       "      <td>0</td>\n",
       "      <td>1.0</td>\n",
       "      <td>1.0</td>\n",
       "      <td>1.0</td>\n",
       "      <td>1.0</td>\n",
       "      <td>1.0</td>\n",
       "      <td>1.0</td>\n",
       "      <td>1.0</td>\n",
       "      <td>1.0</td>\n",
       "      <td>1.0</td>\n",
       "      <td>0.7</td>\n",
       "      <td>46.000000</td>\n",
       "      <td>52.0</td>\n",
       "      <td>4.0</td>\n",
       "      <td>80.000000</td>\n",
       "      <td>0</td>\n",
       "    </tr>\n",
       "    <tr>\n",
       "      <th>4</th>\n",
       "      <td>6</td>\n",
       "      <td>34</td>\n",
       "      <td>0</td>\n",
       "      <td>1.000000</td>\n",
       "      <td>1</td>\n",
       "      <td>1.0</td>\n",
       "      <td>1.0</td>\n",
       "      <td>1.0</td>\n",
       "      <td>1.0</td>\n",
       "      <td>1.0</td>\n",
       "      <td>1.0</td>\n",
       "      <td>1.0</td>\n",
       "      <td>1.0</td>\n",
       "      <td>1.0</td>\n",
       "      <td>1.0</td>\n",
       "      <td>101.313725</td>\n",
       "      <td>200.0</td>\n",
       "      <td>4.0</td>\n",
       "      <td>66.571429</td>\n",
       "      <td>0</td>\n",
       "    </tr>\n",
       "    <tr>\n",
       "      <th>...</th>\n",
       "      <td>...</td>\n",
       "      <td>...</td>\n",
       "      <td>...</td>\n",
       "      <td>...</td>\n",
       "      <td>...</td>\n",
       "      <td>...</td>\n",
       "      <td>...</td>\n",
       "      <td>...</td>\n",
       "      <td>...</td>\n",
       "      <td>...</td>\n",
       "      <td>...</td>\n",
       "      <td>...</td>\n",
       "      <td>...</td>\n",
       "      <td>...</td>\n",
       "      <td>...</td>\n",
       "      <td>...</td>\n",
       "      <td>...</td>\n",
       "      <td>...</td>\n",
       "      <td>...</td>\n",
       "      <td>...</td>\n",
       "    </tr>\n",
       "    <tr>\n",
       "      <th>150</th>\n",
       "      <td>152</td>\n",
       "      <td>46</td>\n",
       "      <td>0</td>\n",
       "      <td>1.000000</td>\n",
       "      <td>1</td>\n",
       "      <td>0.0</td>\n",
       "      <td>0.0</td>\n",
       "      <td>0.0</td>\n",
       "      <td>1.0</td>\n",
       "      <td>1.0</td>\n",
       "      <td>1.0</td>\n",
       "      <td>0.0</td>\n",
       "      <td>0.0</td>\n",
       "      <td>0.0</td>\n",
       "      <td>7.6</td>\n",
       "      <td>122.375000</td>\n",
       "      <td>242.0</td>\n",
       "      <td>3.3</td>\n",
       "      <td>50.000000</td>\n",
       "      <td>1</td>\n",
       "    </tr>\n",
       "    <tr>\n",
       "      <th>151</th>\n",
       "      <td>153</td>\n",
       "      <td>44</td>\n",
       "      <td>0</td>\n",
       "      <td>1.000000</td>\n",
       "      <td>1</td>\n",
       "      <td>0.0</td>\n",
       "      <td>1.0</td>\n",
       "      <td>1.0</td>\n",
       "      <td>1.0</td>\n",
       "      <td>0.0</td>\n",
       "      <td>1.0</td>\n",
       "      <td>1.0</td>\n",
       "      <td>1.0</td>\n",
       "      <td>1.0</td>\n",
       "      <td>0.9</td>\n",
       "      <td>126.000000</td>\n",
       "      <td>142.0</td>\n",
       "      <td>4.3</td>\n",
       "      <td>66.571429</td>\n",
       "      <td>1</td>\n",
       "    </tr>\n",
       "    <tr>\n",
       "      <th>152</th>\n",
       "      <td>154</td>\n",
       "      <td>61</td>\n",
       "      <td>0</td>\n",
       "      <td>0.000000</td>\n",
       "      <td>1</td>\n",
       "      <td>0.0</td>\n",
       "      <td>0.0</td>\n",
       "      <td>1.0</td>\n",
       "      <td>0.0</td>\n",
       "      <td>0.0</td>\n",
       "      <td>1.0</td>\n",
       "      <td>0.0</td>\n",
       "      <td>1.0</td>\n",
       "      <td>1.0</td>\n",
       "      <td>0.8</td>\n",
       "      <td>75.000000</td>\n",
       "      <td>20.0</td>\n",
       "      <td>4.1</td>\n",
       "      <td>66.571429</td>\n",
       "      <td>1</td>\n",
       "    </tr>\n",
       "    <tr>\n",
       "      <th>153</th>\n",
       "      <td>155</td>\n",
       "      <td>53</td>\n",
       "      <td>1</td>\n",
       "      <td>0.000000</td>\n",
       "      <td>1</td>\n",
       "      <td>0.0</td>\n",
       "      <td>1.0</td>\n",
       "      <td>1.0</td>\n",
       "      <td>1.0</td>\n",
       "      <td>1.0</td>\n",
       "      <td>0.0</td>\n",
       "      <td>0.0</td>\n",
       "      <td>1.0</td>\n",
       "      <td>0.0</td>\n",
       "      <td>1.5</td>\n",
       "      <td>81.000000</td>\n",
       "      <td>19.0</td>\n",
       "      <td>4.1</td>\n",
       "      <td>48.000000</td>\n",
       "      <td>1</td>\n",
       "    </tr>\n",
       "    <tr>\n",
       "      <th>154</th>\n",
       "      <td>156</td>\n",
       "      <td>43</td>\n",
       "      <td>0</td>\n",
       "      <td>1.000000</td>\n",
       "      <td>1</td>\n",
       "      <td>0.0</td>\n",
       "      <td>1.0</td>\n",
       "      <td>1.0</td>\n",
       "      <td>1.0</td>\n",
       "      <td>1.0</td>\n",
       "      <td>0.0</td>\n",
       "      <td>0.0</td>\n",
       "      <td>0.0</td>\n",
       "      <td>1.0</td>\n",
       "      <td>1.2</td>\n",
       "      <td>100.000000</td>\n",
       "      <td>19.0</td>\n",
       "      <td>3.1</td>\n",
       "      <td>42.000000</td>\n",
       "      <td>1</td>\n",
       "    </tr>\n",
       "  </tbody>\n",
       "</table>\n",
       "<p>155 rows × 20 columns</p>\n",
       "</div>"
      ],
      "text/plain": [
       "     index  Age  Sex   Steroid  Antivirals  Fatique  Malaise  Anorexia  \\\n",
       "0        2   30    1  0.000000           1      1.0      1.0       1.0   \n",
       "1        3   50    0  0.000000           1      0.0      1.0       1.0   \n",
       "2        4   78    0  1.000000           1      0.0      1.0       1.0   \n",
       "3        5   31    0  0.540984           0      1.0      1.0       1.0   \n",
       "4        6   34    0  1.000000           1      1.0      1.0       1.0   \n",
       "..     ...  ...  ...       ...         ...      ...      ...       ...   \n",
       "150    152   46    0  1.000000           1      0.0      0.0       0.0   \n",
       "151    153   44    0  1.000000           1      0.0      1.0       1.0   \n",
       "152    154   61    0  0.000000           1      0.0      0.0       1.0   \n",
       "153    155   53    1  0.000000           1      0.0      1.0       1.0   \n",
       "154    156   43    0  1.000000           1      0.0      1.0       1.0   \n",
       "\n",
       "     Liver_Big  Liver_Firm  Spleen_Palpable  Speiders  Ascites  Varices  \\\n",
       "0          0.0         1.0              1.0       1.0      1.0      1.0   \n",
       "1          0.0         1.0              1.0       1.0      1.0      1.0   \n",
       "2          1.0         1.0              1.0       1.0      1.0      1.0   \n",
       "3          1.0         1.0              1.0       1.0      1.0      1.0   \n",
       "4          1.0         1.0              1.0       1.0      1.0      1.0   \n",
       "..         ...         ...              ...       ...      ...      ...   \n",
       "150        1.0         1.0              1.0       0.0      0.0      0.0   \n",
       "151        1.0         0.0              1.0       1.0      1.0      1.0   \n",
       "152        0.0         0.0              1.0       0.0      1.0      1.0   \n",
       "153        1.0         1.0              0.0       0.0      1.0      0.0   \n",
       "154        1.0         1.0              0.0       0.0      0.0      1.0   \n",
       "\n",
       "     Bilirubin  Alk_Phosphate   SGOT  Albumin    Protime  Histology  \n",
       "0          1.0      85.000000   18.0      4.0  66.571429          0  \n",
       "1          0.9     135.000000   42.0      3.5  66.571429          0  \n",
       "2          0.7      96.000000   32.0      4.0  66.571429          0  \n",
       "3          0.7      46.000000   52.0      4.0  80.000000          0  \n",
       "4          1.0     101.313725  200.0      4.0  66.571429          0  \n",
       "..         ...            ...    ...      ...        ...        ...  \n",
       "150        7.6     122.375000  242.0      3.3  50.000000          1  \n",
       "151        0.9     126.000000  142.0      4.3  66.571429          1  \n",
       "152        0.8      75.000000   20.0      4.1  66.571429          1  \n",
       "153        1.5      81.000000   19.0      4.1  48.000000          1  \n",
       "154        1.2     100.000000   19.0      3.1  42.000000          1  \n",
       "\n",
       "[155 rows x 20 columns]"
      ]
     },
     "execution_count": 2,
     "metadata": {},
     "output_type": "execute_result"
    }
   ],
   "source": [
    "X = data.groupby(\"CLASS\").transform(lambda x: x.fillna(x.mean()))\n",
    "X"
   ]
  },
  {
   "cell_type": "code",
   "execution_count": 3,
   "metadata": {},
   "outputs": [
    {
     "data": {
      "text/plain": [
       "array([0, 0, 0, 0, 0, 0, 1, 0, 0, 0, 0, 0, 0, 0, 0, 0, 0, 0, 0, 0, 0, 0,\n",
       "       0, 0, 0, 0, 0, 0, 0, 0, 1, 1, 0, 0, 0, 1, 0, 0, 0, 0, 0, 0, 0, 0,\n",
       "       0, 0, 0, 0, 0, 0, 0, 0, 0, 0, 0, 0, 0, 0, 0, 0, 0, 0, 0, 0, 0, 0,\n",
       "       0, 1, 0, 0, 0, 1, 0, 0, 0, 0, 1, 0, 0, 0, 0, 0, 0, 0, 0, 0, 1, 1,\n",
       "       1, 0, 0, 1, 0, 0, 1, 0, 0, 0, 1, 0, 1, 0, 0, 0, 1, 0, 1, 0, 0, 1,\n",
       "       0, 1, 0, 0, 0, 0, 0, 0, 1, 0, 1, 0, 0, 0, 0, 0, 0, 1, 0, 1, 0, 1,\n",
       "       0, 0, 1, 0, 0, 0, 1, 0, 0, 1, 0, 1, 1, 0, 1, 1, 0, 0, 1, 0, 0, 0,\n",
       "       1], dtype=int64)"
      ]
     },
     "execution_count": 3,
     "metadata": {},
     "output_type": "execute_result"
    }
   ],
   "source": [
    "y = data['CLASS'].values\n",
    "y"
   ]
  },
  {
   "cell_type": "code",
   "execution_count": 4,
   "metadata": {},
   "outputs": [
    {
     "data": {
      "text/plain": [
       "array([[-1.7209121 , -0.89419175,  2.94745653, ...,  0.30720513,\n",
       "         0.26151157, -0.90748521],\n",
       "       [-1.69856259,  0.70257923, -0.33927557, ..., -0.48942799,\n",
       "         0.26151157, -0.90748521],\n",
       "       [-1.67621309,  2.93805862, -0.33927557, ...,  0.30720513,\n",
       "         0.26151157, -0.90748521],\n",
       "       ...,\n",
       "       [ 1.67621309,  1.58080328, -0.33927557, ...,  0.46653176,\n",
       "         0.26151157,  1.10194633],\n",
       "       [ 1.69856259,  0.94209488,  2.94745653, ...,  0.46653176,\n",
       "        -0.75812043,  1.10194633],\n",
       "       [ 1.7209121 ,  0.14370939, -0.33927557, ..., -1.1267345 ,\n",
       "        -1.08753999,  1.10194633]])"
      ]
     },
     "execution_count": 4,
     "metadata": {},
     "output_type": "execute_result"
    }
   ],
   "source": [
    "from sklearn import preprocessing\n",
    "scaler = preprocessing.StandardScaler().fit(X)\n",
    "\n",
    "X_scaled = scaler.transform(X)\n",
    "X_scaled"
   ]
  },
  {
   "cell_type": "markdown",
   "metadata": {},
   "source": [
    "# K-Means Random Centroid 10x"
   ]
  },
  {
   "cell_type": "code",
   "execution_count": 5,
   "metadata": {},
   "outputs": [
    {
     "name": "stdout",
     "output_type": "stream",
     "text": [
      "==> Loop ke 1 \n",
      " [[ 0.56036311  0.28016073  0.13879455 -0.21413866  0.32750461 -0.69997079\n",
      "  -0.71765819 -0.43074567 -0.16076615 -0.39504026 -0.4866123  -0.90514252\n",
      "  -0.71359843 -0.61387485  0.65168889  0.60233502  0.37742484 -0.82364414\n",
      "  -0.65116602  0.62698978]\n",
      " [-0.30819971 -0.1540884  -0.076337    0.11777626 -0.18012753  0.38498393\n",
      "   0.39471201  0.23691012  0.08842138  0.21727214  0.26763676  0.49782839\n",
      "   0.39247914  0.33763117 -0.35842889 -0.33128426 -0.20758366  0.45300428\n",
      "   0.35814131 -0.34484438]]\n",
      "==> Loop ke 2 \n",
      " [[ 0.56036311  0.28016073  0.13879455 -0.21413866  0.32750461 -0.69997079\n",
      "  -0.71765819 -0.43074567 -0.16076615 -0.39504026 -0.4866123  -0.90514252\n",
      "  -0.71359843 -0.61387485  0.65168889  0.60233502  0.37742484 -0.82364414\n",
      "  -0.65116602  0.62698978]\n",
      " [-0.30819971 -0.1540884  -0.076337    0.11777626 -0.18012753  0.38498393\n",
      "   0.39471201  0.23691012  0.08842138  0.21727214  0.26763676  0.49782839\n",
      "   0.39247914  0.33763117 -0.35842889 -0.33128426 -0.20758366  0.45300428\n",
      "   0.35814131 -0.34484438]]\n",
      "==> Loop ke 3 \n",
      " [[-0.30819971 -0.1540884  -0.076337    0.11777626 -0.18012753  0.38498393\n",
      "   0.39471201  0.23691012  0.08842138  0.21727214  0.26763676  0.49782839\n",
      "   0.39247914  0.33763117 -0.35842889 -0.33128426 -0.20758366  0.45300428\n",
      "   0.35814131 -0.34484438]\n",
      " [ 0.56036311  0.28016073  0.13879455 -0.21413866  0.32750461 -0.69997079\n",
      "  -0.71765819 -0.43074567 -0.16076615 -0.39504026 -0.4866123  -0.90514252\n",
      "  -0.71359843 -0.61387485  0.65168889  0.60233502  0.37742484 -0.82364414\n",
      "  -0.65116602  0.62698978]]\n",
      "==> Loop ke 4 \n",
      " [[-0.30819971 -0.1540884  -0.076337    0.11777626 -0.18012753  0.38498393\n",
      "   0.39471201  0.23691012  0.08842138  0.21727214  0.26763676  0.49782839\n",
      "   0.39247914  0.33763117 -0.35842889 -0.33128426 -0.20758366  0.45300428\n",
      "   0.35814131 -0.34484438]\n",
      " [ 0.56036311  0.28016073  0.13879455 -0.21413866  0.32750461 -0.69997079\n",
      "  -0.71765819 -0.43074567 -0.16076615 -0.39504026 -0.4866123  -0.90514252\n",
      "  -0.71359843 -0.61387485  0.65168889  0.60233502  0.37742484 -0.82364414\n",
      "  -0.65116602  0.62698978]]\n",
      "==> Loop ke 5 \n",
      " [[ 0.56552237  0.31479199  0.18894923 -0.19263914  0.32929963 -0.70065335\n",
      "  -0.69035515 -0.41388661 -0.14954678 -0.37227622 -0.46885734 -0.87598794\n",
      "  -0.69376657 -0.59622795  0.66649659  0.59670785  0.38080135 -0.80408547\n",
      "  -0.63486821  0.63547115]\n",
      " [-0.31989144 -0.17806416 -0.10688037  0.1089676  -0.1862705   0.39632917\n",
      "   0.39050393  0.23411768  0.08459212  0.21058049  0.26521223  0.49550833\n",
      "   0.39243361  0.33726025 -0.37700817 -0.33753172 -0.21540279  0.45483623\n",
      "   0.35911737 -0.35945843]]\n",
      "==> Loop ke 6 \n",
      " [[ 0.56036311  0.28016073  0.13879455 -0.21413866  0.32750461 -0.69997079\n",
      "  -0.71765819 -0.43074567 -0.16076615 -0.39504026 -0.4866123  -0.90514252\n",
      "  -0.71359843 -0.61387485  0.65168889  0.60233502  0.37742484 -0.82364414\n",
      "  -0.65116602  0.62698978]\n",
      " [-0.30819971 -0.1540884  -0.076337    0.11777626 -0.18012753  0.38498393\n",
      "   0.39471201  0.23691012  0.08842138  0.21727214  0.26763676  0.49782839\n",
      "   0.39247914  0.33763117 -0.35842889 -0.33128426 -0.20758366  0.45300428\n",
      "   0.35814131 -0.34484438]]\n",
      "==> Loop ke 7 \n",
      " [[-0.30819971 -0.1540884  -0.076337    0.11777626 -0.18012753  0.38498393\n",
      "   0.39471201  0.23691012  0.08842138  0.21727214  0.26763676  0.49782839\n",
      "   0.39247914  0.33763117 -0.35842889 -0.33128426 -0.20758366  0.45300428\n",
      "   0.35814131 -0.34484438]\n",
      " [ 0.56036311  0.28016073  0.13879455 -0.21413866  0.32750461 -0.69997079\n",
      "  -0.71765819 -0.43074567 -0.16076615 -0.39504026 -0.4866123  -0.90514252\n",
      "  -0.71359843 -0.61387485  0.65168889  0.60233502  0.37742484 -0.82364414\n",
      "  -0.65116602  0.62698978]]\n",
      "==> Loop ke 8 \n",
      " [[ 0.59019256  0.28860157  0.1476477  -0.1992748   0.37683446 -0.69926295\n",
      "  -0.70798991 -0.44822915 -0.17240106 -0.37968895 -0.50502485 -0.93537691\n",
      "  -0.7341648  -0.63217534  0.65031416  0.54396961  0.38190105 -0.83868481\n",
      "  -0.64105157  0.65540599]\n",
      " [-0.3155485  -0.15430183 -0.07894036  0.10654296 -0.20147585  0.37386336\n",
      "   0.37852926  0.23964727  0.09217482  0.20300201  0.27001329  0.50010251\n",
      "   0.39252375  0.33799474 -0.34769272 -0.29083524 -0.20418472  0.44840574\n",
      "   0.34274044 -0.35041508]]\n",
      "==> Loop ke 9 \n",
      " [[ 0.56036311  0.28016073  0.13879455 -0.21413866  0.32750461 -0.69997079\n",
      "  -0.71765819 -0.43074567 -0.16076615 -0.39504026 -0.4866123  -0.90514252\n",
      "  -0.71359843 -0.61387485  0.65168889  0.60233502  0.37742484 -0.82364414\n",
      "  -0.65116602  0.62698978]\n",
      " [-0.30819971 -0.1540884  -0.076337    0.11777626 -0.18012753  0.38498393\n",
      "   0.39471201  0.23691012  0.08842138  0.21727214  0.26763676  0.49782839\n",
      "   0.39247914  0.33763117 -0.35842889 -0.33128426 -0.20758366  0.45300428\n",
      "   0.35814131 -0.34484438]]\n",
      "==> Loop ke 10 \n",
      " [[ 0.58699085  0.29284177  0.15683493 -0.18385003  0.42802583 -0.69852839\n",
      "  -0.69795678 -0.46637237 -0.18447502 -0.40345187 -0.52413222 -0.92636771\n",
      "  -0.75550726 -0.65116642  0.67737796  0.57197247  0.39296324 -0.85429305\n",
      "  -0.61916042  0.6469807 ]\n",
      " [-0.30500505 -0.15216288 -0.08149266  0.09552992 -0.22240558  0.36296083\n",
      "   0.36266382  0.24233074  0.09585467  0.20963676  0.27234321  0.48134793\n",
      "   0.3925675   0.33835118 -0.3519709  -0.29720138 -0.20418678  0.44389737\n",
      "   0.32172061 -0.33617624]]\n"
     ]
    }
   ],
   "source": [
    "from sklearn.cluster import KMeans\n",
    "\n",
    "Cluster_center = []\n",
    "for i in range (1,11):\n",
    "    kmeans = KMeans(init=\"random\", n_clusters=2, random_state=i*2).fit(X_scaled)\n",
    "    Cluster_center.append(kmeans.cluster_centers_[0])\n",
    "    Cluster_center.append(kmeans.cluster_centers_[1])\n",
    "    print('==> Loop ke',i,'\\n',kmeans.cluster_centers_)\n",
    "#print('==> Cluster Center:\\n', Cluster_center)\n",
    "#Cluster_center"
   ]
  },
  {
   "cell_type": "markdown",
   "metadata": {},
   "source": [
    "# Dataset for Hierarchical Clustering"
   ]
  },
  {
   "cell_type": "code",
   "execution_count": 6,
   "metadata": {},
   "outputs": [
    {
     "data": {
      "image/png": "[encoded data removed]",
      "text/plain": [
       "<Figure size 720x504 with 1 Axes>"
      ]
     },
     "metadata": {
      "needs_background": "light"
     },
     "output_type": "display_data"
    }
   ],
   "source": [
    "import scipy.cluster.hierarchy as shc\n",
    "import matplotlib.pyplot as plt\n",
    "\n",
    "plt.figure(figsize=(10, 7))  \n",
    "plt.title(\"Dendrograms\")  \n",
    "dend = shc.dendrogram(shc.linkage(Cluster_center, method='ward'))"
   ]
  },
  {
   "cell_type": "code",
   "execution_count": 8,
   "metadata": {},
   "outputs": [
    {
     "data": {
      "text/plain": [
       "<matplotlib.lines.Line2D at 0x1ec6e979988>"
      ]
     },
     "execution_count": 8,
     "metadata": {},
     "output_type": "execute_result"
    },
    {
     "data": {
      "image/png": "[encoded data removed]",
      "text/plain": [
       "<Figure size 720x504 with 1 Axes>"
      ]
     },
     "metadata": {
      "needs_background": "light"
     },
     "output_type": "display_data"
    }
   ],
   "source": [
    "plt.figure(figsize=(10, 7))  \n",
    "plt.title(\"Dendrograms\")  \n",
    "dend = shc.dendrogram(shc.linkage(Cluster_center, method='ward'))\n",
    "plt.axhline(y=1, color='r', linestyle='--')"
   ]
  },
  {
   "cell_type": "code",
   "execution_count": 9,
   "metadata": {},
   "outputs": [
    {
     "name": "stdout",
     "output_type": "stream",
     "text": [
      "2\n",
      "\n",
      "[0 1 0 1 1 0 1 0 0 1 0 1 1 0 0 1 0 1 0 1]\n"
     ]
    }
   ],
   "source": [
    "from sklearn.cluster import AgglomerativeClustering\n",
    "cluster = AgglomerativeClustering(n_clusters=2, affinity='euclidean', linkage='ward').fit(Cluster_center) \n",
    "cluster\n",
    "print(cluster.n_clusters_)\n",
    "print()\n",
    "print(cluster.labels_)"
   ]
  },
  {
   "cell_type": "code",
   "execution_count": 10,
   "metadata": {},
   "outputs": [
    {
     "data": {
      "text/plain": [
       "<matplotlib.collections.PathCollection at 0x1ec6e6055c8>"
      ]
     },
     "execution_count": 10,
     "metadata": {},
     "output_type": "execute_result"
    },
    {
     "data": {
      "image/png": "[encoded data removed]",
      "text/plain": [
       "<Figure size 720x504 with 1 Axes>"
      ]
     },
     "metadata": {
      "needs_background": "light"
     },
     "output_type": "display_data"
    }
   ],
   "source": [
    "plt.figure(figsize=(10, 7))  \n",
    "plt.scatter(Cluster_center[0], Cluster_center[4], c=cluster.labels_)"
   ]
  },
  {
   "cell_type": "markdown",
   "metadata": {},
   "source": [
    "# Hierarchical Clustering - Centroid"
   ]
  },
  {
   "cell_type": "code",
   "execution_count": null,
   "metadata": {},
   "outputs": [],
   "source": []
  },
  {
   "cell_type": "markdown",
   "metadata": {},
   "source": [
    "# K-Means Clustering - Centroid"
   ]
  },
  {
   "cell_type": "code",
   "execution_count": 11,
   "metadata": {},
   "outputs": [
    {
     "name": "stdout",
     "output_type": "stream",
     "text": [
      "[[ 0.56652476  0.28573604  0.14649937 -0.20747346  0.34266922 -0.69982402\n",
      "  -0.71199092 -0.43437078 -0.16317859 -0.39206989 -0.49043005 -0.90737302\n",
      "  -0.71786276 -0.61766937  0.65560109  0.59289951  0.37976395 -0.82625723\n",
      "  -0.64532423  0.63267863]\n",
      " [-0.3097843  -0.15631477 -0.08016724  0.11354743 -0.18710447  0.38280409\n",
      "   0.3894681   0.23744665  0.08915713  0.21441243  0.26810261  0.49617575\n",
      "   0.39248788  0.33770243 -0.3585674  -0.32445582 -0.20768599  0.45181693\n",
      "   0.35305676 -0.34599604]]\n"
     ]
    },
    {
     "data": {
      "text/plain": [
       "array([0, 1, 0, 1, 1, 0, 1, 0, 0, 1, 0, 1, 1, 0, 0, 1, 0, 1, 0, 1])"
      ]
     },
     "execution_count": 11,
     "metadata": {},
     "output_type": "execute_result"
    }
   ],
   "source": [
    "kmeans = KMeans(n_clusters=2, random_state=i).fit(Cluster_center)\n",
    "\n",
    "print(kmeans.cluster_centers_)\n",
    "kmeans.labels_"
   ]
  },
  {
   "cell_type": "markdown",
   "metadata": {},
   "source": [
    "# ==> Real data with New Centroid (Clustering)"
   ]
  },
  {
   "cell_type": "code",
   "execution_count": 12,
   "metadata": {},
   "outputs": [
    {
     "name": "stdout",
     "output_type": "stream",
     "text": [
      "[0 0 0 0 0 0 1 0 0 0 0 0 0 0 0 1 0 0 0 0 0 1 0 0 0 0 0 1 0 0 1 0 0 0 0 0 0\n",
      " 1 0 1 0 0 0 0 0 0 0 1 0 0 0 0 0 0 0 0 0 0 0 0 0 0 1 0 0 0 0 1 0 0 0 1 0 0\n",
      " 0 0 1 0 0 0 0 0 0 1 1 0 1 1 1 0 1 1 0 0 1 0 1 1 0 1 1 0 1 1 1 0 1 1 0 1 0\n",
      " 1 0 0 0 0 0 0 1 0 1 1 0 0 0 1 1 1 1 1 0 1 1 0 0 1 0 1 1 0 1 1 1 1 1 0 1 1\n",
      " 0 0 1 0 1 1 1]\n",
      "\n",
      "[0 0 0 0 0 0 1 0 0 0 0 0 0 0 0 0 0 0 0 0 0 0 0 0 0 0 0 0 0 0 1 1 0 0 0 1 0\n",
      " 0 0 0 0 0 0 0 0 0 0 0 0 0 0 0 0 0 0 0 0 0 0 0 0 0 0 0 0 0 0 1 0 0 0 1 0 0\n",
      " 0 0 1 0 0 0 0 0 0 0 0 0 1 1 1 0 0 1 0 0 1 0 0 0 1 0 1 0 0 0 1 0 1 0 0 1 0\n",
      " 1 0 0 0 0 0 0 1 0 1 0 0 0 0 0 0 1 0 1 0 1 0 0 1 0 0 0 1 0 0 1 0 1 1 0 1 1\n",
      " 0 0 1 0 0 0 1]\n"
     ]
    }
   ],
   "source": [
    "y_kmeans = kmeans.predict(X_scaled)\n",
    "print(1-y_kmeans)\n",
    "\n",
    "print()\n",
    "print(y)"
   ]
  },
  {
   "cell_type": "code",
   "execution_count": 13,
   "metadata": {},
   "outputs": [
    {
     "data": {
      "text/plain": [
       "80.0"
      ]
     },
     "execution_count": 13,
     "metadata": {},
     "output_type": "execute_result"
    }
   ],
   "source": [
    "# Accuracy\n",
    "from sklearn.metrics import accuracy_score\n",
    "acc = accuracy_score(y, 1-y_kmeans)\n",
    "acc*100"
   ]
  },
  {
   "cell_type": "markdown",
   "metadata": {},
   "source": [
    "# Compare to Hierarchical Clustering"
   ]
  },
  {
   "cell_type": "code",
   "execution_count": 14,
   "metadata": {},
   "outputs": [
    {
     "data": {
      "image/png": "[encoded data removed]",
      "text/plain": [
       "<Figure size 720x504 with 1 Axes>"
      ]
     },
     "metadata": {
      "needs_background": "light"
     },
     "output_type": "display_data"
    }
   ],
   "source": [
    "import scipy.cluster.hierarchy as shc\n",
    "import matplotlib.pyplot as plt\n",
    "\n",
    "plt.figure(figsize=(10, 7))  \n",
    "plt.title(\"Dendrograms\")  \n",
    "dend = shc.dendrogram(shc.linkage(X_scaled, method='ward'))"
   ]
  },
  {
   "cell_type": "code",
   "execution_count": 15,
   "metadata": {},
   "outputs": [
    {
     "data": {
      "text/plain": [
       "<matplotlib.lines.Line2D at 0x1ec6eabc208>"
      ]
     },
     "execution_count": 15,
     "metadata": {},
     "output_type": "execute_result"
    },
    {
     "data": {
      "image/png": "[encoded data removed]",
      "text/plain": [
       "<Figure size 720x504 with 1 Axes>"
      ]
     },
     "metadata": {
      "needs_background": "light"
     },
     "output_type": "display_data"
    }
   ],
   "source": [
    "plt.figure(figsize=(10, 7))  \n",
    "plt.title(\"Dendrograms\")  \n",
    "dend = shc.dendrogram(shc.linkage(X_scaled, method='ward'))\n",
    "plt.axhline(y=22, color='r', linestyle='--')"
   ]
  },
  {
   "cell_type": "code",
   "execution_count": 16,
   "metadata": {},
   "outputs": [
    {
     "data": {
      "text/plain": [
       "array([1, 1, 1, 1, 1, 1, 0, 1, 1, 1, 1, 1, 1, 1, 1, 0, 1, 1, 1, 1, 1, 0,\n",
       "       1, 1, 1, 1, 0, 0, 1, 1, 0, 1, 0, 1, 1, 1, 0, 0, 1, 0, 1, 1, 1, 1,\n",
       "       1, 1, 1, 0, 1, 0, 1, 1, 1, 1, 1, 0, 1, 1, 1, 0, 1, 1, 0, 0, 1, 1,\n",
       "       1, 0, 1, 1, 1, 0, 0, 0, 1, 1, 0, 1, 0, 1, 0, 1, 1, 0, 0, 0, 0, 0,\n",
       "       0, 0, 0, 0, 1, 1, 0, 0, 1, 0, 0, 0, 0, 1, 1, 0, 0, 1, 0, 0, 1, 0,\n",
       "       1, 1, 1, 0, 1, 0, 1, 1, 0, 0, 0, 0, 1, 1, 1, 0, 0, 0, 0, 0, 1, 0,\n",
       "       0, 1, 1, 0, 0, 0, 0, 1, 0, 0, 0, 0, 0, 1, 0, 0, 1, 1, 0, 1, 0, 0,\n",
       "       0], dtype=int64)"
      ]
     },
     "execution_count": 16,
     "metadata": {},
     "output_type": "execute_result"
    }
   ],
   "source": [
    "from sklearn.cluster import AgglomerativeClustering\n",
    "cluster = AgglomerativeClustering(n_clusters=2, affinity='euclidean', linkage='ward').fit(X_scaled) \n",
    "cluster.labels_"
   ]
  },
  {
   "cell_type": "code",
   "execution_count": 17,
   "metadata": {},
   "outputs": [
    {
     "data": {
      "text/plain": [
       "69.6774193548387"
      ]
     },
     "execution_count": 17,
     "metadata": {},
     "output_type": "execute_result"
    }
   ],
   "source": [
    "# Accuracy\n",
    "from sklearn.metrics import accuracy_score\n",
    "acc = accuracy_score(y, 1-cluster.labels_)\n",
    "acc*100"
   ]
  },
  {
   "cell_type": "code",
   "execution_count": null,
   "metadata": {},
   "outputs": [],
   "source": []
  }
 ],
 "metadata": {
  "kernelspec": {
   "display_name": "Python 3",
   "language": "python",
   "name": "python3"
  },
  "language_info": {
   "codemirror_mode": {
    "name": "ipython",
    "version": 3
   },
   "file_extension": ".py",
   "mimetype": "text/x-python",
   "name": "python",
   "nbconvert_exporter": "python",
   "pygments_lexer": "ipython3",
   "version": "3.7.6"
  }
 },
 "nbformat": 4,
 "nbformat_minor": 4
}
