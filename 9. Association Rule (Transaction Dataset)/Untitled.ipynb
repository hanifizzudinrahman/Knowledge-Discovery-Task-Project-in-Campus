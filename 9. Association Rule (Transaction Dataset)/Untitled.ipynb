{
 "cells": [
  {
   "cell_type": "code",
   "execution_count": 2,
   "metadata": {},
   "outputs": [
    {
     "ename": "FileNotFoundError",
     "evalue": "[Errno 2] No such file or directory: 'D:/KULIAH/MASTER/S2 PENS/KULIAH/SEMESTER 2/Sistem Temu PengetahuanP Ali Ridho /P15_Asosiatif Rule/transaction.csv'",
     "output_type": "error",
     "traceback": [
      "\u001b[1;31m---------------------------------------------------------------------------\u001b[0m",
      "\u001b[1;31mFileNotFoundError\u001b[0m                         Traceback (most recent call last)",
      "\u001b[1;32m<ipython-input-2-a2cca974ff64>\u001b[0m in \u001b[0;36m<module>\u001b[1;34m\u001b[0m\n\u001b[0;32m      4\u001b[0m \u001b[0mcontacts\u001b[0m \u001b[1;33m=\u001b[0m \u001b[1;33m[\u001b[0m\u001b[1;33m]\u001b[0m\u001b[1;33m\u001b[0m\u001b[1;33m\u001b[0m\u001b[0m\n\u001b[0;32m      5\u001b[0m \u001b[1;33m\u001b[0m\u001b[0m\n\u001b[1;32m----> 6\u001b[1;33m \u001b[1;32mwith\u001b[0m \u001b[0mopen\u001b[0m\u001b[1;33m(\u001b[0m\u001b[1;34m'D:/KULIAH/MASTER/S2 PENS/KULIAH/SEMESTER 2/Sistem Temu PengetahuanP Ali Ridho /P15_Asosiatif Rule/transaction.csv'\u001b[0m\u001b[1;33m)\u001b[0m \u001b[1;32mas\u001b[0m \u001b[0mcsv_file\u001b[0m\u001b[1;33m:\u001b[0m\u001b[1;33m\u001b[0m\u001b[1;33m\u001b[0m\u001b[0m\n\u001b[0m\u001b[0;32m      7\u001b[0m     \u001b[0mcsv_reader\u001b[0m \u001b[1;33m=\u001b[0m \u001b[0mcsv\u001b[0m\u001b[1;33m.\u001b[0m\u001b[0mreader\u001b[0m\u001b[1;33m(\u001b[0m\u001b[0mcsv_file\u001b[0m\u001b[1;33m,\u001b[0m \u001b[0mdelimiter\u001b[0m\u001b[1;33m=\u001b[0m\u001b[1;34m\",\"\u001b[0m\u001b[1;33m)\u001b[0m\u001b[1;33m\u001b[0m\u001b[1;33m\u001b[0m\u001b[0m\n\u001b[0;32m      8\u001b[0m     \u001b[1;32mfor\u001b[0m \u001b[0mrow\u001b[0m \u001b[1;32min\u001b[0m \u001b[0mcsv_reader\u001b[0m\u001b[1;33m:\u001b[0m\u001b[1;33m\u001b[0m\u001b[1;33m\u001b[0m\u001b[0m\n",
      "\u001b[1;31mFileNotFoundError\u001b[0m: [Errno 2] No such file or directory: 'D:/KULIAH/MASTER/S2 PENS/KULIAH/SEMESTER 2/Sistem Temu PengetahuanP Ali Ridho /P15_Asosiatif Rule/transaction.csv'"
     ]
    }
   ],
   "source": [
    "import pandas as pd\n",
    "import csv\n",
    "\n",
    "contacts = []\n",
    "\n",
    "with open('D:/KULIAH/MASTER/S2 PENS/KULIAH/SEMESTER 2/Sistem Temu PengetahuanP Ali Ridho /P15_Asosiatif Rule/transaction.csv') as csv_file:\n",
    "    csv_reader = csv.reader(csv_file, delimiter=\",\")\n",
    "    for row in csv_reader:\n",
    "        contacts.append(row)\n",
    "        \n",
    "labels = contacts.pop(0)\n",
    "\n",
    "print(f'{labels[0]}\\t{labels[1]}\\t\\t{labels[2]}\\t{labels[3]}\\t\\t{labels[4]}\\t{labels[5]}')\n",
    "print(\"-\"*34)\n",
    "\n",
    "for data in contacts:\n",
    "    data5=f'{data[5]}'\n",
    "    #print(f'{data[0]}\\t{data[1]}\\t{data[2]}\\t{data[3]}\\t{data[4]}\\t{data[5]}')\n",
    "    if (data5 == \"Portugal\"):\n",
    "        print(f'{data[0]}\\t{data[1]}\\t{data[2]}\\t{data[3]}\\t{data[4]}\\t{data[5]}')"
   ]
  },
  {
   "cell_type": "code",
   "execution_count": null,
   "metadata": {},
   "outputs": [],
   "source": [
    "import pandas as pd\n",
    "from mlxtend.frequent_patterns import apriori\n",
    "from mlxtend.frequent_patterns import association_rules\n",
    "\n",
    "dataset = pd.read_csv ('D:/KULIAH/MASTER/S2 PENS/KULIAH/SEMESTER Sistem Temu Pengetahuan P Ali Ridho /P15_Asosiatif Rule/transaction.csv')\n",
    "transaksi = dataset.groupby(['InvoiceNo StockCode '])['Qty'].\n",
    "\n",
    "transaksi = transaksi.unstack().reset_index().fillna(0).set_index('InvoiceNo')\n",
    "transaksi[transaksi >0]=1\n",
    "\n",
    "print('Tabel Transaksi \\n', transaksi)\n",
    "\n",
    "frequent_itemsets = apriori(transaksi,min_support=0.2,use_colnames=True)\n",
    "rules=association_rules(frequent_itemsets,metric=\"confidence\",min_threshold = 0.7)\n",
    "\n",
    "print('\\nAssociation Rules:\\n', rules[['antecedents', 'consequents', 'confidence']])"
   ]
  }
 ],
 "metadata": {
  "kernelspec": {
   "display_name": "Python 3",
   "language": "python",
   "name": "python3"
  },
  "language_info": {
   "codemirror_mode": {
    "name": "ipython",
    "version": 3
   },
   "file_extension": ".py",
   "mimetype": "text/x-python",
   "name": "python",
   "nbconvert_exporter": "python",
   "pygments_lexer": "ipython3",
   "version": "3.7.6"
  }
 },
 "nbformat": 4,
 "nbformat_minor": 4
}
